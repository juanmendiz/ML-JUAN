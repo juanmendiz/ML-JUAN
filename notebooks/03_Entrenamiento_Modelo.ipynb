{
 "cells": [
  {
   "cell_type": "code",
   "execution_count": 1,
   "metadata": {},
   "outputs": [],
   "source": [
    "import numpy as np\n",
    "import pandas as pd\n",
    "\n",
    "from sklearn.linear_model import LogisticRegression\n",
    "from sklearn.neighbors import KNeighborsClassifier\n",
    "from sklearn.tree import DecisionTreeClassifier\n",
    "from sklearn.metrics import mean_squared_error, mean_absolute_error, mean_absolute_percentage_error"
   ]
  },
  {
   "cell_type": "code",
   "execution_count": 7,
   "metadata": {},
   "outputs": [],
   "source": [
    "url = \"https://raw.githubusercontent.com/juanmendiz/ML-JUAN/master/data/Train.csv\"\n",
    "X_train = pd.read_csv(url)\n",
    "\n",
    "url = \"https://raw.githubusercontent.com/juanmendiz/ML-JUAN/master/data/Test.csv\"\n",
    "X_test = pd.read_csv(url)\n",
    "\n",
    "# url = \"https://raw.githubusercontent.com/juanmendiz/ML-JUAN/master/data/y_test.csv\"\n",
    "# y_test = pd.read_csv(url)\n",
    "\n",
    "url = \"https://raw.githubusercontent.com/juanmendiz/ML-JUAN/master/data/y_train.csv\"\n",
    "y_train = pd.read_csv(url)"
   ]
  },
  {
   "attachments": {},
   "cell_type": "markdown",
   "metadata": {},
   "source": [
    "# Regresion Logistica"
   ]
  },
  {
   "cell_type": "code",
   "execution_count": 7,
   "metadata": {},
   "outputs": [
    {
     "name": "stderr",
     "output_type": "stream",
     "text": [
      "c:\\Users\\jamen\\AppData\\Local\\Programs\\Python\\Python37\\lib\\site-packages\\sklearn\\utils\\validation.py:993: DataConversionWarning: A column-vector y was passed when a 1d array was expected. Please change the shape of y to (n_samples, ), for example using ravel().\n",
      "  y = column_or_1d(y, warn=True)\n"
     ]
    },
    {
     "name": "stdout",
     "output_type": "stream",
     "text": [
      "MSE : 0.654721911160881\n",
      "MSLR : 0.654721911160881\n",
      "MAPE: 0.23581560283687944\n"
     ]
    }
   ],
   "source": [
    "# me da fallo, porq es para una clasificacion binaria el roc_auc_score?\n",
    "\n",
    "rl = LogisticRegression(max_iter=1000)\n",
    "rl.fit(X_train,y_train)\n",
    "\n",
    "y_pred = rl.predict(X_test)\n",
    "\n",
    "# medir_auc('Regresion Logistica', y_pred)\n",
    "print(\"MSE :\",mean_squared_error(y_test, y_pred))\n",
    "print(\"MSLR :\",mean_squared_error(y_test, y_pred))\n",
    "print(\"MAPE:\",mean_absolute_percentage_error(y_test,y_pred))"
   ]
  },
  {
   "attachments": {},
   "cell_type": "markdown",
   "metadata": {},
   "source": [
    "# KNN"
   ]
  },
  {
   "cell_type": "code",
   "execution_count": 8,
   "metadata": {},
   "outputs": [
    {
     "name": "stderr",
     "output_type": "stream",
     "text": [
      "c:\\Users\\jamen\\AppData\\Local\\Programs\\Python\\Python37\\lib\\site-packages\\sklearn\\neighbors\\_classification.py:198: DataConversionWarning: A column-vector y was passed when a 1d array was expected. Please change the shape of y to (n_samples,), for example using ravel().\n",
      "  return self._fit(X, y)\n"
     ]
    },
    {
     "name": "stdout",
     "output_type": "stream",
     "text": [
      "MSE : 0.7637178051511758\n",
      "MSLR : 0.7637178051511758\n",
      "MAPE: 0.23096304591265399\n"
     ]
    }
   ],
   "source": [
    "knn = KNeighborsClassifier(n_neighbors=10)\n",
    "knn.fit(X_train,y_train)\n",
    "\n",
    "y_pred = knn.predict(X_test)\n",
    "\n",
    "# medir_auc('KNN ',y_pred)\n",
    "print(\"MSE :\",mean_squared_error(y_test, y_pred))\n",
    "print(\"MSLR :\",mean_squared_error(y_test, y_pred))\n",
    "print(\"MAPE:\",mean_absolute_percentage_error(y_test,y_pred))"
   ]
  },
  {
   "attachments": {},
   "cell_type": "markdown",
   "metadata": {},
   "source": [
    "# Arbol de decision"
   ]
  },
  {
   "cell_type": "code",
   "execution_count": null,
   "metadata": {},
   "outputs": [],
   "source": [
    "\n",
    "tree = DecisionTreeClassifier()\n",
    "tree.fit(X_train,y_train)\n",
    "\n",
    "y_pred = tree.predict(X_test)\n",
    "\n",
    "# medir_auc('Arbol de decision' ,y_pred)\n",
    "print(\"MSE :\",mean_squared_error(y_test, y_pred))\n",
    "print(\"MSLR :\",mean_squared_log_error(y_test, y_pred))\n",
    "print(\"MAPE:\",mean_absolute_percentage_error(y_test,y_pred))"
   ]
  }
 ],
 "metadata": {
  "kernelspec": {
   "display_name": "Python 3",
   "language": "python",
   "name": "python3"
  },
  "language_info": {
   "codemirror_mode": {
    "name": "ipython",
    "version": 3
   },
   "file_extension": ".py",
   "mimetype": "text/x-python",
   "name": "python",
   "nbconvert_exporter": "python",
   "pygments_lexer": "ipython3",
   "version": "3.7.4"
  },
  "orig_nbformat": 4
 },
 "nbformat": 4,
 "nbformat_minor": 2
}
