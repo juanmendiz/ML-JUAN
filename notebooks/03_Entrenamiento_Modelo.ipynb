{
 "cells": [
  {
   "attachments": {},
   "cell_type": "markdown",
   "metadata": {},
   "source": [
    "# CUADERNO ENTRENAMIENTO MODELO"
   ]
  },
  {
   "attachments": {},
   "cell_type": "markdown",
   "metadata": {},
   "source": [
    "# Indice\n",
    "\n",
    "1. [Importar Datos](#1.-Importar-Datos)\n",
    "2. [Train Test](#2.-Train-Test)\n",
    "3. [Scaler](#3.-Scaler)\n",
    "4. [Pipe Line](#4.-Pipe-Line)\n",
    "5. [GadientBoostingClassifier](#5.-GadientBoostingClassifier)\n",
    "6. [Hiperparametrizacion GBC](#6.-Hiperparametrizacion-GBC)\n",
    "7. [Parametrizacion GBC](#7.-Parametrizacion-GBC)\n",
    "8. [PCA](#8.-PCA)\n"
   ]
  },
  {
   "cell_type": "code",
   "execution_count": 2,
   "metadata": {},
   "outputs": [],
   "source": [
    "import numpy as np\n",
    "import pandas as pd\n",
    "from sklearn.linear_model import LogisticRegression\n",
    "from sklearn.neighbors import KNeighborsClassifier\n",
    "from sklearn.pipeline import Pipeline\n",
    "from sklearn.ensemble import RandomForestClassifier, GradientBoostingClassifier\n",
    "from sklearn.linear_model import LogisticRegression\n",
    "from sklearn.neighbors import KNeighborsClassifier\n",
    "from sklearn.svm import SVC\n",
    "from sklearn.preprocessing import StandardScaler\n",
    "from sklearn.feature_selection import SelectKBest\n",
    "from sklearn.model_selection import GridSearchCV, RandomizedSearchCV\n",
    "from sklearn.model_selection import cross_val_score\n",
    "from sklearn.metrics import make_scorer, recall_score, accuracy_score,multilabel_confusion_matrix\n",
    "import pickle\n",
    "import os"
   ]
  },
  {
   "attachments": {},
   "cell_type": "markdown",
   "metadata": {},
   "source": [
    "##  1. Importar Datos"
   ]
  },
  {
   "attachments": {},
   "cell_type": "markdown",
   "metadata": {},
   "source": [
    "[indice](#Indice)"
   ]
  },
  {
   "cell_type": "code",
   "execution_count": 3,
   "metadata": {},
   "outputs": [],
   "source": [
    "Train = pd.read_csv(os.path.join('../data', 'Train.csv'))"
   ]
  },
  {
   "cell_type": "code",
   "execution_count": 4,
   "metadata": {},
   "outputs": [],
   "source": [
    "Test = pd.read_csv(os.path.join('../data', 'Test.csv'))"
   ]
  },
  {
   "attachments": {},
   "cell_type": "markdown",
   "metadata": {},
   "source": [
    "## 2. Train Test"
   ]
  },
  {
   "attachments": {},
   "cell_type": "markdown",
   "metadata": {},
   "source": [
    "[indice](#Indice)"
   ]
  },
  {
   "cell_type": "code",
   "execution_count": null,
   "metadata": {},
   "outputs": [],
   "source": [
    "# Eliminadas: 'gender', 'age', 'diastolic', 'systolic', 'height_cm',"
   ]
  },
  {
   "cell_type": "code",
   "execution_count": 5,
   "metadata": {},
   "outputs": [],
   "source": [
    "X_test = Test[['weight_kg','gender', 'age', 'diastolic', 'systolic', 'height_cm', 'body fat_%','gripForce', 'sit and bend forward_cm', 'sit-ups counts',\n",
    "       'broad jump_cm']]\n",
    "y_test = Test['class']"
   ]
  },
  {
   "cell_type": "code",
   "execution_count": 6,
   "metadata": {},
   "outputs": [],
   "source": [
    "X = Train[['weight_kg','gender', 'age', 'diastolic', 'systolic', 'height_cm', 'body fat_%','gripForce', 'sit and bend forward_cm', 'sit-ups counts',\n",
    "       'broad jump_cm']]\n",
    "\n",
    "y = Train['class']"
   ]
  },
  {
   "attachments": {},
   "cell_type": "markdown",
   "metadata": {},
   "source": [
    "## 3. Scaler"
   ]
  },
  {
   "attachments": {},
   "cell_type": "markdown",
   "metadata": {},
   "source": [
    "[indice](#Indice)"
   ]
  },
  {
   "attachments": {},
   "cell_type": "markdown",
   "metadata": {},
   "source": [
    "from sklearn.metrics import make_scorer, recall_score"
   ]
  },
  {
   "cell_type": "code",
   "execution_count": 6,
   "metadata": {},
   "outputs": [],
   "source": [
    "url= 'https://file+.vscode-resource.vscode-cdn.net/c%3A/Users/jamen/Documents/TheBridge/Alumno/JUAN%20ML/notebooks/#indice'\n",
    "\n",
    "from sklearn.preprocessing import MinMaxScaler\n",
    "scaler = MinMaxScaler()\n",
    "\n",
    "X_scaled = scaler.fit_transform(X)\n",
    "X_test_scaled = scaler.fit_transform(X_test)"
   ]
  },
  {
   "cell_type": "code",
   "execution_count": 10,
   "metadata": {},
   "outputs": [
    {
     "name": "stdout",
     "output_type": "stream",
     "text": [
      "(10714, 11)\n",
      "(10714, 11)\n",
      "(2679, 11)\n"
     ]
    }
   ],
   "source": [
    "print(X_scaled.shape)\n",
    "print(X.shape)\n",
    "print(X_test_scaled.shape)"
   ]
  },
  {
   "attachments": {},
   "cell_type": "markdown",
   "metadata": {},
   "source": [
    "## 4. Pipe Line\n",
    "de ejercicio de Beast Cancer de 3.ML-1.supervisado -4.Pipeles-practica"
   ]
  },
  {
   "attachments": {},
   "cell_type": "markdown",
   "metadata": {},
   "source": [
    "[indice](#Indice)"
   ]
  },
  {
   "cell_type": "code",
   "execution_count": 17,
   "metadata": {},
   "outputs": [],
   "source": [
    "pipe = Pipeline(steps=[\n",
    "    (\"scaler\", StandardScaler()),\n",
    "    (\"selectkbest\", SelectKBest()),\n",
    "    ('classifier', RandomForestClassifier())\n",
    "])\n",
    "\n",
    "logistic_params = {\n",
    "'selectkbest__k' : [1,2,4,6,7,8,9,10,11],\n",
    "'classifier': [LogisticRegression(solver='liblinear')],\n",
    "'classifier__penalty': ['l1','l2']\n",
    "}\n",
    "\n",
    "rf_params = {\n",
    "# 'scaler' : [StandardScaler(), None],\n",
    "'selectkbest__k' :[8,9,10],\n",
    "'classifier': [RandomForestClassifier()],\n",
    "'classifier__max_features': [2,3,4],\n",
    "'classifier__max_depth': [9,10,11]\n",
    "}\n",
    "\n",
    "gb_params = {\n",
    "'scaler' : [StandardScaler(), None],\n",
    "'selectkbest__k' : [10,11],\n",
    "'classifier': [GradientBoostingClassifier()],\n",
    "'classifier__max_features': [4,5],\n",
    "'classifier__max_depth': [7,8]\n",
    "}\n",
    "\n",
    "knn_params = {\n",
    "'selectkbest__k' :[7,9],\n",
    "'classifier': [KNeighborsClassifier()],\n",
    "'classifier__n_neighbors': [2,3,5]\n",
    "}\n",
    "\n",
    "svm_params = {\n",
    "'selectkbest__k' : [3,4],\n",
    "'classifier': [SVC()],\n",
    "'classifier__C': [50,60,70]\n",
    "}"
   ]
  },
  {
   "cell_type": "code",
   "execution_count": 18,
   "metadata": {},
   "outputs": [],
   "source": [
    "scorer = make_scorer(recall_score, average='macro')\n",
    "search_space = [logistic_params, svm_params ,rf_params, gb_params ,knn_params,]\n",
    "\n",
    "clf = GridSearchCV(estimator = pipe, param_grid = search_space, cv=3, scoring=scorer , n_jobs=-1)"
   ]
  },
  {
   "cell_type": "code",
   "execution_count": 19,
   "metadata": {},
   "outputs": [
    {
     "data": {
      "text/plain": [
       "GridSearchCV(cv=3,\n",
       "             estimator=Pipeline(steps=[('scaler', StandardScaler()),\n",
       "                                       ('selectkbest', SelectKBest()),\n",
       "                                       ('classifier',\n",
       "                                        RandomForestClassifier())]),\n",
       "             n_jobs=-1,\n",
       "             param_grid=[{'classifier': [LogisticRegression(solver='liblinear')],\n",
       "                          'classifier__penalty': ['l1', 'l2'],\n",
       "                          'selectkbest__k': [1, 2, 4, 6, 7, 8, 9, 10, 11]},\n",
       "                         {'classifier': [SVC()], 'classifier__C': [50, 60, 70],\n",
       "                          'selec...\n",
       "                          'selectkbest__k': [8, 9, 10]},\n",
       "                         {'classifier': [GradientBoostingClassifier(max_depth=7,\n",
       "                                                                    max_features=4)],\n",
       "                          'classifier__max_depth': [7, 8],\n",
       "                          'classifier__max_features': [4, 5],\n",
       "                          'scaler': [StandardScaler(), None],\n",
       "                          'selectkbest__k': [10, 11]},\n",
       "                         {'classifier': [KNeighborsClassifier()],\n",
       "                          'classifier__n_neighbors': [2, 3, 5],\n",
       "                          'selectkbest__k': [7, 9]}],\n",
       "             scoring=make_scorer(recall_score, average=macro))"
      ]
     },
     "execution_count": 19,
     "metadata": {},
     "output_type": "execute_result"
    }
   ],
   "source": [
    "clf.fit(X, y)"
   ]
  },
  {
   "cell_type": "code",
   "execution_count": 31,
   "metadata": {},
   "outputs": [],
   "source": [
    "ruta_model = os.path.join(\"../models\",\"trained_model_pip.pkl\")\n",
    "\n",
    "with open(ruta_model, 'wb') as archivo:\n",
    "    pickle.dump(clf, archivo)"
   ]
  },
  {
   "cell_type": "code",
   "execution_count": 32,
   "metadata": {},
   "outputs": [
    {
     "name": "stdout",
     "output_type": "stream",
     "text": [
      "Best Score 0.7325548077617182\n",
      "\t\n",
      "Best Params {'classifier': GradientBoostingClassifier(max_depth=7, max_features=4), 'classifier__max_depth': 7, 'classifier__max_features': 4, 'scaler': None, 'selectkbest__k': 10}\n",
      "\t\n",
      "Best Estimators Pipeline(steps=[('scaler', None), ('selectkbest', SelectKBest()),\n",
      "                ('classifier',\n",
      "                 GradientBoostingClassifier(max_depth=7, max_features=4))])\n"
     ]
    }
   ],
   "source": [
    "print(\"Best Score\", clf.best_score_)\n",
    "print(\"\\t\")\n",
    "print(\"Best Params\", clf.best_params_)\n",
    "print(\"\\t\")\n",
    "print(\"Best Estimators\", clf.best_estimator_)"
   ]
  },
  {
   "cell_type": "code",
   "execution_count": 35,
   "metadata": {},
   "outputs": [],
   "source": [
    "y_pred_pip = clf.best_estimator_.predict(X_test)"
   ]
  },
  {
   "cell_type": "code",
   "execution_count": 36,
   "metadata": {},
   "outputs": [
    {
     "name": "stdout",
     "output_type": "stream",
     "text": [
      "Accuracy 0.7573721537887271\n",
      "Matriz Confusion  [[[1810  184]\n",
      "  [ 107  578]]\n",
      "\n",
      " [[1761  256]\n",
      "  [ 233  429]]\n",
      "\n",
      " [[1870  159]\n",
      "  [ 201  449]]\n",
      "\n",
      " [[1946   51]\n",
      "  [ 109  573]]]\n"
     ]
    }
   ],
   "source": [
    "print(\"Accuracy\", accuracy_score(y_test,y_pred_pip))\n",
    "print(\"Matriz Confusion \",multilabel_confusion_matrix(y_test,y_pred_pip))"
   ]
  },
  {
   "attachments": {},
   "cell_type": "markdown",
   "metadata": {},
   "source": [
    "\n",
    "## 5. GadientBoostingClassifier\n"
   ]
  },
  {
   "attachments": {},
   "cell_type": "markdown",
   "metadata": {},
   "source": [
    "[indice](#Indice)"
   ]
  },
  {
   "cell_type": "code",
   "execution_count": 13,
   "metadata": {},
   "outputs": [
    {
     "name": "stdout",
     "output_type": "stream",
     "text": [
      "CV [0.71604992 0.68144605 0.70938325 0.69533893 0.72316257 0.72879883\n",
      " 0.72510508 0.73558237 0.69368322 0.72524809]\n",
      "CV media 0.7133798323541232\n",
      "CV desv 0.016914598035810944\n"
     ]
    }
   ],
   "source": [
    "seed = 0\n",
    "scorer = make_scorer(recall_score, average='macro')\n",
    "                     \n",
    "model_gbc = GradientBoostingClassifier(n_estimators=100, random_state=seed)\n",
    "\n",
    "gbc_cv = cross_val_score(model_gbc, X, y, cv=10, scoring= scorer,error_score='raise')\n",
    "\n",
    "print('CV',gbc_cv)\n",
    "print('CV media',gbc_cv.mean())\n",
    "print('CV desv',gbc_cv.std())"
   ]
  },
  {
   "cell_type": "code",
   "execution_count": 37,
   "metadata": {},
   "outputs": [
    {
     "data": {
      "text/plain": [
       "GradientBoostingClassifier(random_state=0)"
      ]
     },
     "execution_count": 37,
     "metadata": {},
     "output_type": "execute_result"
    }
   ],
   "source": [
    "model_gbc.fit(X, y)"
   ]
  },
  {
   "cell_type": "code",
   "execution_count": 40,
   "metadata": {},
   "outputs": [],
   "source": [
    "ruta_model = os.path.join(\"../models\",\"trained_model_gbc.pkl\")\n",
    "\n",
    "with open(ruta_model, 'wb') as archivo:\n",
    "    pickle.dump(model_gbc, archivo)"
   ]
  },
  {
   "cell_type": "code",
   "execution_count": 41,
   "metadata": {},
   "outputs": [
    {
     "name": "stdout",
     "output_type": "stream",
     "text": [
      "Accuracy 0.7282568122433744\n",
      "Matriz Confusion  [[[1780  214]\n",
      "  [  95  590]]\n",
      "\n",
      " [[1740  277]\n",
      "  [ 256  406]]\n",
      "\n",
      " [[1855  174]\n",
      "  [ 239  411]]\n",
      "\n",
      " [[1934   63]\n",
      "  [ 138  544]]]\n"
     ]
    }
   ],
   "source": [
    "y_pred_gbc = model_gbc.predict(X_test)\n",
    "\n",
    "print(\"Accuracy\", accuracy_score(y_test,y_pred_gbc))\n",
    "print(\"Matriz Confusion \",multilabel_confusion_matrix(y_test,y_pred_gbc))"
   ]
  },
  {
   "cell_type": "code",
   "execution_count": 46,
   "metadata": {},
   "outputs": [
    {
     "name": "stdout",
     "output_type": "stream",
     "text": [
      "weight_kg: 0.06720162827383427\n",
      "gender: 0.020926607121788357\n",
      "age: 0.06565674541992124\n",
      "diastolic: 0.001850554873762779\n",
      "systolic: 0.0014978676300325354\n",
      "height_cm: 0.009604797503516073\n",
      "body fat_%: 0.07895630932545923\n",
      "gripForce: 0.03291280223404903\n",
      "sit and bend forward_cm: 0.5143837581605198\n",
      "sit-ups counts: 0.1915512543523271\n",
      "broad jump_cm: 0.015457675104789426\n"
     ]
    }
   ],
   "source": [
    "# para sacar la importancia de cada feature \n",
    "\n",
    "importancia = model_gbc.feature_importances_\n",
    "\n",
    "for feature, importancia in zip(X.columns, importancia):\n",
    "    print(f\"{feature}: {importancia}\")"
   ]
  },
  {
   "attachments": {},
   "cell_type": "markdown",
   "metadata": {},
   "source": [
    "Accuracy sin Scaler: 0.7286\n",
    "Accuracy MinMaxScaler: 0.6162\n",
    "Accuracy StandarScaler: 0.7248"
   ]
  },
  {
   "attachments": {},
   "cell_type": "markdown",
   "metadata": {},
   "source": [
    "## 6. Hiperparametrizacion GBC"
   ]
  },
  {
   "attachments": {},
   "cell_type": "markdown",
   "metadata": {},
   "source": [
    "[indice](#Indice)"
   ]
  },
  {
   "cell_type": "code",
   "execution_count": 7,
   "metadata": {},
   "outputs": [],
   "source": [
    "model_gbcgs = GradientBoostingClassifier()\n",
    "scorer = make_scorer(recall_score, average='macro')\n",
    "\n",
    "parameters = {\n",
    "    'scaler' : [StandardScaler(), None],\n",
    "    'selectkbest__k' : [10,11],\n",
    "    'classifier': [GradientBoostingClassifier()],\n",
    "    'classifier__max_features': [4,5],\n",
    "    'classifier__max_depth': [7,8]\n",
    "    }\n",
    "\n",
    "gb_gs = GridSearchCV(model_gbcgs, parameters, cv=5, scoring=scorer)"
   ]
  },
  {
   "cell_type": "code",
   "execution_count": 22,
   "metadata": {},
   "outputs": [
    {
     "data": {
      "text/plain": [
       "GradientBoostingClassifier()"
      ]
     },
     "execution_count": 22,
     "metadata": {},
     "output_type": "execute_result"
    }
   ],
   "source": [
    "model_gbcgs.fit(X, y)"
   ]
  },
  {
   "cell_type": "code",
   "execution_count": 23,
   "metadata": {},
   "outputs": [],
   "source": [
    "ruta_model = os.path.join(\"../models\",\"trained_model_gbcgs.pkl\")\n",
    "\n",
    "with open(ruta_model, 'wb') as archivo:\n",
    "    pickle.dump(model_gbcgs, archivo)"
   ]
  },
  {
   "cell_type": "code",
   "execution_count": 52,
   "metadata": {},
   "outputs": [
    {
     "name": "stdout",
     "output_type": "stream",
     "text": [
      "Accuracy 0.7282568122433744\n"
     ]
    }
   ],
   "source": [
    "y_pred = model_gbcgs.predict(X_test)\n",
    "\n",
    "print(\"Accuracy\", accuracy_score(y_test,y_pred))"
   ]
  },
  {
   "attachments": {},
   "cell_type": "markdown",
   "metadata": {},
   "source": [
    "## 7. Parametrizacion GBC"
   ]
  },
  {
   "attachments": {},
   "cell_type": "markdown",
   "metadata": {},
   "source": [
    "[indice](#Indice)"
   ]
  },
  {
   "cell_type": "code",
   "execution_count": 12,
   "metadata": {},
   "outputs": [
    {
     "data": {
      "text/plain": [
       "0.7357222844344905"
      ]
     },
     "execution_count": 12,
     "metadata": {},
     "output_type": "execute_result"
    }
   ],
   "source": [
    "from sklearn.ensemble import GradientBoostingClassifier\n",
    "\n",
    "gbc = GradientBoostingClassifier(max_depth=8,\n",
    "                                 n_estimators=100,\n",
    "                                 learning_rate=1.0,\n",
    "                                 random_state=42)\n",
    "\n",
    "gbc.fit(X, y)\n",
    "\n",
    "\n",
    "y_pred_gbc = gbc.predict(X_test)\n",
    "accuracy_score(y_test, y_pred_gbc)"
   ]
  },
  {
   "cell_type": "code",
   "execution_count": 24,
   "metadata": {},
   "outputs": [],
   "source": [
    "ruta_model = os.path.join(\"../models\",\"trained_model_pa.pkl\")\n",
    "\n",
    "with open(ruta_model, 'wb') as archivo:\n",
    "    pickle.dump(model_gbcgs, archivo)"
   ]
  },
  {
   "attachments": {},
   "cell_type": "markdown",
   "metadata": {},
   "source": [
    "\n",
    "## 8. PCA"
   ]
  },
  {
   "attachments": {},
   "cell_type": "markdown",
   "metadata": {},
   "source": [
    "[indice](#Indice)"
   ]
  },
  {
   "cell_type": "code",
   "execution_count": 42,
   "metadata": {},
   "outputs": [],
   "source": [
    "from sklearn.cluster import KMeans\n",
    "\n",
    "k = 3\n",
    "\n",
    "kmeans = KMeans(n_clusters=k, random_state=101)\n",
    "\n",
    "y_pred_pca = kmeans.fit_predict(X)\n"
   ]
  },
  {
   "cell_type": "code",
   "execution_count": 44,
   "metadata": {},
   "outputs": [
    {
     "data": {
      "text/plain": [
       "array([[   0, 1278, 1258, 1124,  748],\n",
       "       [   0,  254,  439,  625,  918],\n",
       "       [   0, 1131,  988,  950, 1001],\n",
       "       [   0,    0,    0,    0,    0],\n",
       "       [   0,    0,    0,    0,    0]], dtype=int64)"
      ]
     },
     "execution_count": 44,
     "metadata": {},
     "output_type": "execute_result"
    }
   ],
   "source": [
    "from sklearn.metrics import confusion_matrix\n",
    "\n",
    "confusion_matrix(y_pred_pca, y)"
   ]
  }
 ],
 "metadata": {
  "kernelspec": {
   "display_name": "Python 3",
   "language": "python",
   "name": "python3"
  },
  "language_info": {
   "codemirror_mode": {
    "name": "ipython",
    "version": 3
   },
   "file_extension": ".py",
   "mimetype": "text/x-python",
   "name": "python",
   "nbconvert_exporter": "python",
   "pygments_lexer": "ipython3",
   "version": "3.7.4"
  },
  "orig_nbformat": 4
 },
 "nbformat": 4,
 "nbformat_minor": 2
}
